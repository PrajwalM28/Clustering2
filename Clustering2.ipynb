{
 "cells": [
  {
   "cell_type": "markdown",
   "id": "033fde6f-2fb2-44a5-8ac0-9bdfe59bde39",
   "metadata": {},
   "source": [
    "# Q1.\n",
    "### What is hierarchical clustering, and how is it different from other clustering techniques?"
   ]
  },
  {
   "cell_type": "markdown",
   "id": "817e833a-24df-4d73-8ab5-13296cf1d1c0",
   "metadata": {},
   "source": [
    "- Hierarchical clustering is a method of cluster analysis that seeks to build a hierarchy of clusters. \n",
    "- Hierarchical clustering does not require a pre-specified number of clusters. Instead, it creates a tree-like structure called a dendrogram that represents the nested grouping of patterns and their similarities."
   ]
  },
  {
   "cell_type": "markdown",
   "id": "d61fb7c9-9d40-431e-8c80-92bbf77530a2",
   "metadata": {},
   "source": [
    "# Q2\n",
    "### What are the two main types of hierarchical clustering algorithms? Describe each in brief."
   ]
  },
  {
   "cell_type": "markdown",
   "id": "98d0a808-15f5-4be1-b65e-8d0e03b47a46",
   "metadata": {},
   "source": [
    "- Agglomerative Clustering : \n",
    "    - Starts with each data point as a single cluster. At each step, the two closest clusters are merged until all points are merged into a single cluster.\n",
    "    - This is the most common type of hierarchical clustering and results in a dendrogram that is built from the bottom up.\n",
    "    \n",
    "- Divisive Clustering : \n",
    "    - Starts with all data points in a single cluster. At each step, the cluster is split into two until each point is its own cluster or until a stopping criterion is reached.\n",
    "    - This approach is less common and tends to be more computationally intensive because it requires evaluating all possible splits at each step."
   ]
  },
  {
   "cell_type": "markdown",
   "id": "914ac11c-ff3b-4230-b4c2-73035c4c6b69",
   "metadata": {},
   "source": [
    "# Q3\n",
    "### How do you determine the distance between two clusters in hierarchical clustering, and what are the common distance metrics used?"
   ]
  },
  {
   "cell_type": "markdown",
   "id": "ae60e333-fa84-4d97-8d98-ca718ebe8ca5",
   "metadata": {},
   "source": [
    "- In hierarchical clustering, the distance between two clusters can be determined using various linkage methods. \n",
    "\n",
    "- Single Linkage \n",
    "- Complete Linkage\n",
    "- Average Linkage\n",
    "- Centroid Linkage\n",
    "- Ward's Linkage"
   ]
  },
  {
   "cell_type": "markdown",
   "id": "5720feb9-8504-424e-914a-9cd23d8f9f75",
   "metadata": {},
   "source": [
    "# Q4\n",
    "### How do you determine the optimal number of clusters in hierarchical clustering, and what are some common methods used for this purpose?"
   ]
  },
  {
   "cell_type": "markdown",
   "id": "2cd44e9f-1751-4bac-8f30-8713ea96eba5",
   "metadata": {},
   "source": [
    "- the method itself doesn't require the number of clusters to be specified upfront. \n",
    "- Several techniques can be used to identify a suitable number of clusters , \n",
    "- Dendogram Inspection\n",
    "- Elbow Method\n",
    "- Silhouette Score"
   ]
  },
  {
   "cell_type": "markdown",
   "id": "7f661a72-8c73-437e-87d1-a773c03550f3",
   "metadata": {},
   "source": [
    "# Q5\n",
    "### What are dendrograms in hierarchical clustering, and how are they useful in analyzing the results?"
   ]
  },
  {
   "cell_type": "markdown",
   "id": "56a0fad7-c71b-4115-a638-a09d7165f636",
   "metadata": {},
   "source": [
    "- A dendrogram is a tree-like diagram that records the sequences of merges or splits in hierarchical clustering.\n",
    "- Determining Number of Clusters\n",
    "- Understanding Data Structure\n",
    "- Identifying Outliers\n",
    "- Assessing Cluster Homogeneity"
   ]
  },
  {
   "cell_type": "markdown",
   "id": "f4b4c34b-188a-40f6-b98e-fad157f6e576",
   "metadata": {},
   "source": [
    "# Q6\n",
    "### Can hierarchical clustering be used for both numerical and categorical data? If yes, how are the distance metrics different for each type of data?"
   ]
  },
  {
   "cell_type": "markdown",
   "id": "7f3a8d4f-2bd9-45ec-9a97-5b4153c56514",
   "metadata": {},
   "source": [
    "Yes .\n",
    "\n",
    "- Numerical Data : \n",
    "    - Euclidean Distance\n",
    "    - Manhattan Distance\n",
    "\n",
    "- Categorical Data : \n",
    "    - Simple Matching Coefficient\n",
    "    - Jaccard Coefficient\n",
    "    - Hamming Distance"
   ]
  },
  {
   "cell_type": "markdown",
   "id": "efb3d854-5189-462f-b13e-2830c2d4e860",
   "metadata": {},
   "source": [
    "# Q7\n",
    "### How can you use hierarchical clustering to identify outliers or anomalies in your data?"
   ]
  },
  {
   "cell_type": "markdown",
   "id": "17fa84cc-3102-47f8-abd7-dca6bc74284a",
   "metadata": {},
   "source": [
    "- Construct a Dendrogram: Perform hierarchical clustering on your dataset and create a dendrogram to visualize the hierarchical structure of the clusters.\n",
    "- Analyze Branch Lengths: Look at the lengths of the branches in the dendrogram. Data points that only merge with others at a high distance level might be potential outliers.\n",
    "- Cut the Dendrogram at Various Levels: By cutting the dendrogram at different heights, observe how clusters form and identify points that remain isolated or only join clusters at high distance thresholds.\n",
    "- Evaluate Small Clusters: Small clusters formed at higher levels of the dendrogram may represent outliers or anomalies.\n",
    "- Distance-Based Outlier Detection: Calculate the distances of each data point to its nearest cluster. Points with significantly higher distances may be considered outliers."
   ]
  }
 ],
 "metadata": {
  "kernelspec": {
   "display_name": "Python 3 (ipykernel)",
   "language": "python",
   "name": "python3"
  },
  "language_info": {
   "codemirror_mode": {
    "name": "ipython",
    "version": 3
   },
   "file_extension": ".py",
   "mimetype": "text/x-python",
   "name": "python",
   "nbconvert_exporter": "python",
   "pygments_lexer": "ipython3",
   "version": "3.10.8"
  }
 },
 "nbformat": 4,
 "nbformat_minor": 5
}
